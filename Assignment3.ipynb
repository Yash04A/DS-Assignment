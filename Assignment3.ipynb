{
 "cells": [
  {
   "cell_type": "markdown",
   "id": "a4a7f477-b969-463c-990c-4f75cf38247f",
   "metadata": {},
   "source": [
    "# Data Science Masters Course (PWSkills)\n",
    "\n",
    "### Assignment3 - 02 Feb\n"
   ]
  },
  {
   "cell_type": "markdown",
   "id": "2d25ed32-e74b-4846-a3ef-20f2f50cbdb6",
   "metadata": {},
   "source": [
    "#### Answers:"
   ]
  },
  {
   "cell_type": "markdown",
   "id": "273d1484-ec3e-43e2-946f-e214936e2493",
   "metadata": {
    "jp-MarkdownHeadingCollapsed": true,
    "tags": []
   },
   "source": [
    "# 1."
   ]
  },
  {
   "cell_type": "markdown",
   "id": "69dd1f9c-ed36-4bff-b635-5465d16c09b7",
   "metadata": {},
   "source": [
    "A tuple is a collection of ordered, immutable and heterogeneous elements in Python. Here are some of the characteristics of tuples:\n",
    "\n",
    "Ordered: The elements in a tuple have a defined order, and this order is maintained when the tuple is accessed.\n",
    "\n",
    "Immutable: Once a tuple is created, its elements cannot be modified. This means that you cannot add, remove, or change the elements of a tuple.\n",
    "\n",
    "Heterogeneous: Tuples can contain elements of different data types, such as integers, strings, and other data structures like lists and tuples.\n",
    "\n",
    "Can contain duplicates: A tuple can contain duplicate elements.\n",
    "\n",
    "Indexed: Tuples are indexed, meaning you can access individual elements by their index position, starting from 0.\n",
    "\n",
    "Tuples are commonly used to store related data that should not be changed, such as the coordinates of a point in 2D space. They are also used to return multiple values from a function and as keys in dictionaries.\n",
    "\n",
    "In conclusion, tuples are immutable, ordered and heterogeneous collections of elements in Python."
   ]
  },
  {
   "cell_type": "markdown",
   "id": "59bba4ee-fedb-4747-bf6c-f83e655bf615",
   "metadata": {},
   "source": [
    " "
   ]
  },
  {
   "cell_type": "markdown",
   "id": "51fb4748-9e03-4724-aa1b-cdd07c5b3529",
   "metadata": {
    "jp-MarkdownHeadingCollapsed": true,
    "tags": []
   },
   "source": [
    "# 2.\n"
   ]
  },
  {
   "cell_type": "markdown",
   "id": "f5756c4e-5b27-4f65-a912-5381fb7fb1d8",
   "metadata": {},
   "source": [
    "Tuples have two in-built methods in Python:\n",
    "\n",
    "1. 'count' method: This method returns the number of occurrences of a specific element in the tuple.\n",
    "\n",
    "Example:"
   ]
  },
  {
   "cell_type": "code",
   "execution_count": 1,
   "id": "5a735cd9-2504-4a40-b391-d1a5380d1894",
   "metadata": {},
   "outputs": [
    {
     "name": "stdout",
     "output_type": "stream",
     "text": [
      "2\n"
     ]
    }
   ],
   "source": [
    "numbers = (1, 2, 3, 1, 2, 3)\n",
    "print(numbers.count(1))\n"
   ]
  },
  {
   "cell_type": "markdown",
   "id": "1a45b087-1a41-4709-916d-c83f94f8d97f",
   "metadata": {},
   "source": [
    "\n",
    "\n",
    "2. 'index' method: This method returns the index of the first occurrence of a specific element in the tuple.\n",
    "\n",
    "Example:\n",
    "\n"
   ]
  },
  {
   "cell_type": "code",
   "execution_count": 2,
   "id": "28070835-fe53-4275-98ee-b81f84b855b6",
   "metadata": {},
   "outputs": [
    {
     "name": "stdout",
     "output_type": "stream",
     "text": [
      "2\n"
     ]
    }
   ],
   "source": [
    "numbers = (1, 2, 3, 1, 2, 3)\n",
    "print(numbers.index(3))\n"
   ]
  },
  {
   "cell_type": "markdown",
   "id": "99e7eddd-cee1-4784-a239-cf9d48a824bd",
   "metadata": {},
   "source": [
    "Tuples have only two in-built methods as compared to lists because tuples are meant to be lightweight and simple data structures, and are optimized for performance. They are intended for situations where data does not need to be modified, so having fewer methods allows for faster processing and less memory overhead. Lists, on the other hand, are intended for more complex data manipulations and have more methods available for that purpose."
   ]
  },
  {
   "cell_type": "markdown",
   "id": "d4bb6ebf-e7c0-4182-9b9b-43146cf8020a",
   "metadata": {},
   "source": [
    " "
   ]
  },
  {
   "cell_type": "markdown",
   "id": "ab53fca8-5be6-4aa1-b77a-df8e2a56f05e",
   "metadata": {},
   "source": [
    " "
   ]
  },
  {
   "cell_type": "markdown",
   "id": "c43b45f7-f022-4700-ac60-1256aaf52a95",
   "metadata": {
    "jp-MarkdownHeadingCollapsed": true,
    "tags": []
   },
   "source": [
    "# 3."
   ]
  },
  {
   "cell_type": "markdown",
   "id": "3ab8f71c-78f2-4117-a92e-143797fd6be9",
   "metadata": {},
   "source": [
    "In Python, sets are a collection data type that do not allow duplicate items. Here's an example of using a set to remove duplicates from a given list:"
   ]
  },
  {
   "cell_type": "code",
   "execution_count": 3,
   "id": "3ae3495c-3f8f-41b2-a4ff-0c64f0980c0e",
   "metadata": {},
   "outputs": [
    {
     "name": "stdout",
     "output_type": "stream",
     "text": [
      "[1, 2, 3, 4]\n"
     ]
    }
   ],
   "source": [
    "# list with duplicate items\n",
    "numbers = [1, 1, 1, 2, 1, 3, 1, 4, 2, 1, 2, 2, 2, 3, 2, 4, 3, 1, 3, 2, 3, 3, 3, 4, 4, 1, 4, 2, 4, 3, 4, 4]\n",
    "\n",
    "# using set to remove duplicates\n",
    "unique_numbers = set(numbers)\n",
    "\n",
    "# converting set back to list\n",
    "unique_numbers = list(unique_numbers)\n",
    "\n",
    "print(unique_numbers)\n"
   ]
  },
  {
   "cell_type": "markdown",
   "id": "4fbf2fb1-0293-4f2c-9077-06c3f584981a",
   "metadata": {},
   "source": [
    " "
   ]
  },
  {
   "cell_type": "markdown",
   "id": "95fb9eff-c346-48e8-aba9-1a03330af683",
   "metadata": {},
   "source": [
    "  "
   ]
  },
  {
   "cell_type": "markdown",
   "id": "adfdce27-9193-4ac1-8500-24c13f365112",
   "metadata": {},
   "source": [
    " \n",
    "    "
   ]
  },
  {
   "cell_type": "markdown",
   "id": "4c739306-618a-4807-8384-d70dc11a009d",
   "metadata": {
    "jp-MarkdownHeadingCollapsed": true,
    "tags": []
   },
   "source": [
    "# 4."
   ]
  },
  {
   "cell_type": "markdown",
   "id": "02a3bb0b-abaf-457a-a8d0-6ffde3a1955b",
   "metadata": {},
   "source": [
    "The union() and update() methods are both used to combine two sets in Python, but they work in slightly different ways.\n",
    "\n",
    "1. union() method: This method returns a new set that contains all elements from both sets, but it does not modify the original sets. The syntax for using the union() method is as follows: set1.union(set2).\n",
    "\n",
    "Example:"
   ]
  },
  {
   "cell_type": "code",
   "execution_count": 4,
   "id": "c549c1e6-f59f-46b4-acfa-4a0b811016f5",
   "metadata": {},
   "outputs": [
    {
     "name": "stdout",
     "output_type": "stream",
     "text": [
      "{1, 2, 3, 4, 5}\n"
     ]
    }
   ],
   "source": [
    "# sets with common and unique items\n",
    "set1 = {1, 2, 3}\n",
    "set2 = {3, 4, 5}\n",
    "\n",
    "# using union method to combine sets\n",
    "combined_set = set1.union(set2)\n",
    "\n",
    "print(combined_set)\n"
   ]
  },
  {
   "cell_type": "markdown",
   "id": "2f6ae7b2-eda1-4082-bb21-44a0bd0e4746",
   "metadata": {},
   "source": [
    "2. update() method: This method adds all elements from one set to another set, modifying the original set. The syntax for using the update() method is as follows: set1.update(set2).\n",
    "\n",
    "Example:"
   ]
  },
  {
   "cell_type": "code",
   "execution_count": 5,
   "id": "0c1f0602-ef58-4b21-927a-91faaf4be405",
   "metadata": {},
   "outputs": [
    {
     "name": "stdout",
     "output_type": "stream",
     "text": [
      "{1, 2, 3, 4, 5}\n"
     ]
    }
   ],
   "source": [
    "# sets with common and unique items\n",
    "set1 = {1, 2, 3}\n",
    "set2 = {3, 4, 5}\n",
    "\n",
    "# using update method to combine sets\n",
    "set1.update(set2)\n",
    "\n",
    "print(set1)\n",
    "\n"
   ]
  },
  {
   "cell_type": "markdown",
   "id": "0ef0269b-b687-4638-8ce7-afb8f12e12bf",
   "metadata": {},
   "source": [
    "In conclusion, the union() method returns a new set that contains elements from both sets, while the update() method modifies the original set to include elements from another set."
   ]
  },
  {
   "cell_type": "markdown",
   "id": "771c39d0-aa04-48f9-be9a-f43c53438c93",
   "metadata": {},
   "source": [
    " "
   ]
  },
  {
   "cell_type": "markdown",
   "id": "c098e28f-b048-443b-98fa-935b4e86d8b3",
   "metadata": {},
   "source": [
    " "
   ]
  },
  {
   "cell_type": "markdown",
   "id": "e9c607a2-4222-4a3c-a03f-e6a4460eef3c",
   "metadata": {},
   "source": [
    " "
   ]
  },
  {
   "cell_type": "markdown",
   "id": "af75cec1-a01d-453c-bf43-d3941383a113",
   "metadata": {
    "jp-MarkdownHeadingCollapsed": true,
    "tags": []
   },
   "source": [
    "# 5."
   ]
  },
  {
   "cell_type": "markdown",
   "id": "ab02d277-c207-4880-a0ab-771f4f4a347f",
   "metadata": {},
   "source": [
    "A dictionary in Python is a collection of key-value pairs, where each key maps to a specific value. It is similar to a real-world dictionary, where you look up a word and find its definition. "
   ]
  },
  {
   "cell_type": "markdown",
   "id": "677255f8-0392-4cea-bcda-f425f585d938",
   "metadata": {},
   "source": [
    "Example:"
   ]
  },
  {
   "cell_type": "code",
   "execution_count": 6,
   "id": "5fef0ea2-0dc0-4eb6-8252-f94bb3e14a38",
   "metadata": {},
   "outputs": [
    {
     "name": "stdout",
     "output_type": "stream",
     "text": [
      "555-2345\n"
     ]
    }
   ],
   "source": [
    "# creating a dictionary of phone numbers\n",
    "phone_book = {'John': '555-1234', 'Jane': '555-2345', 'Jim': '555-3456'}\n",
    "\n",
    "# accessing a value using its key\n",
    "print(phone_book['Jane'])\n"
   ]
  },
  {
   "cell_type": "markdown",
   "id": "b0368228-dbec-4ca5-af15-3c9316901d46",
   "metadata": {},
   "source": [
    "Dictionaries in Python are unordered, meaning that the items are not stored in any specific order. This makes dictionaries faster for some operations (e.g. accessing values using keys), but means that you cannot rely on the order of the items if you need to process them in a specific order."
   ]
  },
  {
   "cell_type": "markdown",
   "id": "7d700592-5ed3-4b2c-803a-2bc64812d41a",
   "metadata": {
    "jp-MarkdownHeadingCollapsed": true,
    "tags": []
   },
   "source": [
    "# 6."
   ]
  },
  {
   "cell_type": "markdown",
   "id": "aa2b5450-2105-4046-b87e-37c2ffdc6daa",
   "metadata": {},
   "source": [
    "Yes, it is possible to create a nested dictionary in Python. A nested dictionary is a dictionary that contains another dictionary as its value. Here's an example of a simple one-level nested dictionary:"
   ]
  },
  {
   "cell_type": "code",
   "execution_count": 7,
   "id": "8fce9961-f790-4c0b-be7d-657ecc877c08",
   "metadata": {},
   "outputs": [
    {
     "name": "stdout",
     "output_type": "stream",
     "text": [
      "San Francisco\n"
     ]
    }
   ],
   "source": [
    "# creating a nested dictionary\n",
    "person = {'Name': 'John', 'Age': 30, 'Address': {'Street': '123 Main St', 'City': 'San Francisco', 'State': 'CA'}}\n",
    "\n",
    "# accessing a value within the nested dictionary\n",
    "print(person['Address']['City'])\n"
   ]
  },
  {
   "cell_type": "markdown",
   "id": "765d51d0-b5ee-4205-93d9-538a9620d10c",
   "metadata": {},
   "source": [
    "In this example, the person dictionary has a nested dictionary as its 'Address' value. To access the city value, we use two sets of square brackets: one to access the 'Address' value, and another to access the 'City' value within that nested dictionary."
   ]
  },
  {
   "cell_type": "markdown",
   "id": "cd9f3d6b-37b0-4941-8994-35c6693e52ae",
   "metadata": {
    "jp-MarkdownHeadingCollapsed": true,
    "tags": []
   },
   "source": [
    "# 7."
   ]
  },
  {
   "cell_type": "markdown",
   "id": "0e06e350-c8b0-4c51-b797-eaba480ea78c",
   "metadata": {},
   "source": [
    "The setdefault() method to add a key named 'topics' to the dict1 dictionary and set its value to the list ['Python', 'Machine Learning', 'Deep Learning']:"
   ]
  },
  {
   "cell_type": "code",
   "execution_count": 11,
   "id": "c5ea8557-a6c9-4a9a-99c4-2a2c7797a834",
   "metadata": {},
   "outputs": [
    {
     "name": "stdout",
     "output_type": "stream",
     "text": [
      "{'language': 'Python', 'course': 'Data Science Masters', 'topics': ['Python', 'Machine Learning', 'Deep Learning']}\n"
     ]
    }
   ],
   "source": [
    "dict1 = {'language': 'Python', 'course': 'Data Science Masters'}\n",
    "\n",
    "# using setdefault to create a key 'topics'\n",
    "dict1.setdefault('topics', []).extend(['Python', 'Machine Learning', 'Deep Learning'])\n",
    "\n",
    "# printing the dictionary after adding the key 'topics'\n",
    "print(dict1)\n"
   ]
  },
  {
   "cell_type": "markdown",
   "id": "7b0add43-bab1-4097-b36b-47aae30d22c5",
   "metadata": {},
   "source": [
    "In this example, the setdefault() method is used to add a key 'topics' to the dict1 dictionary with a default value of an empty list ([]). The extend() method is then used to add the values ['Python', 'Machine Learning', 'Deep Learning'] to the 'topics' key."
   ]
  },
  {
   "cell_type": "markdown",
   "id": "715f600c-59a2-4a26-8c16-b24a11040c5b",
   "metadata": {
    "jp-MarkdownHeadingCollapsed": true,
    "tags": []
   },
   "source": [
    "# 8."
   ]
  },
  {
   "cell_type": "markdown",
   "id": "86b84fd9-4ad1-4572-99c0-855c79473cc6",
   "metadata": {},
   "source": [
    "Dictionaries have three view objects that can be used to view its contents: keys(), values(), and items().\n",
    "\n",
    "keys() returns a view object that displays a list of all the keys in the dictionary.\n",
    "values() returns a view object that displays a list of all the values in the dictionary.\n",
    "items() returns a view object that displays a list of all the items (key-value pairs) in the dictionary.\n",
    "Here's an example of using these three in-built methods on the given dictionary dict1:"
   ]
  },
  {
   "cell_type": "code",
   "execution_count": 12,
   "id": "ac6ad4e4-c58b-41da-b06e-a97c3ca60ffb",
   "metadata": {},
   "outputs": [
    {
     "name": "stdout",
     "output_type": "stream",
     "text": [
      "Keys: dict_keys(['Sport', 'Teams'])\n",
      "Values: dict_values(['Cricket', ['India', 'Australia', 'England', 'South Africa', 'Sri Lanka', 'New Zealand']])\n",
      "Items: dict_items([('Sport', 'Cricket'), ('Teams', ['India', 'Australia', 'England', 'South Africa', 'Sri Lanka', 'New Zealand'])])\n"
     ]
    }
   ],
   "source": [
    "dict1 = {'Sport': 'Cricket' , 'Teams': ['India', 'Australia', 'England', 'South Africa', 'Sri Lanka', 'New Zealand']}\n",
    "\n",
    "# using keys() method to display the keys in the dictionary\n",
    "print(\"Keys:\", dict1.keys())\n",
    "\n",
    "# using values() method to display the values in the dictionary\n",
    "print(\"Values:\", dict1.values())\n",
    "\n",
    "# using items() method to display the items (key-value pairs) in the dictionary\n",
    "print(\"Items:\", dict1.items())\n"
   ]
  },
  {
   "cell_type": "markdown",
   "id": "cd2abe61-6279-4ae4-95c3-1f7d9adb2da4",
   "metadata": {},
   "source": [
    "In this example, the keys(), values(), and items() methods are used to display the keys, values, and items (key-value pairs) in the dictionary dict1, respectively. The output shows that the keys() method returns a view object displaying a list of the keys in the dictionary, the values() method returns a view object displaying a list of the values in the dictionary, and the items() method returns a view object displaying a list of the items (key-value pairs) in the dictionary."
   ]
  },
  {
   "cell_type": "code",
   "execution_count": null,
   "id": "24910477-2100-4269-8155-ae94832645b8",
   "metadata": {},
   "outputs": [],
   "source": []
  }
 ],
 "metadata": {
  "kernelspec": {
   "display_name": "Python 3 (ipykernel)",
   "language": "python",
   "name": "python3"
  },
  "language_info": {
   "codemirror_mode": {
    "name": "ipython",
    "version": 3
   },
   "file_extension": ".py",
   "mimetype": "text/x-python",
   "name": "python",
   "nbconvert_exporter": "python",
   "pygments_lexer": "ipython3",
   "version": "3.10.8"
  }
 },
 "nbformat": 4,
 "nbformat_minor": 5
}
